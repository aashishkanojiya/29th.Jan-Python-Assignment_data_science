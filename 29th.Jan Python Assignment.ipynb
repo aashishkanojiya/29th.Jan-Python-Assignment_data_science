{
  "metadata": {
    "kernelspec": {
      "name": "python",
      "display_name": "Python (Pyodide)",
      "language": "python"
    },
    "language_info": {
      "codemirror_mode": {
        "name": "python",
        "version": 3
      },
      "file_extension": ".py",
      "mimetype": "text/x-python",
      "name": "python",
      "nbconvert_exporter": "python",
      "pygments_lexer": "ipython3",
      "version": "3.8"
    }
  },
  "nbformat_minor": 4,
  "nbformat": 4,
  "cells": [
    {
      "cell_type": "markdown",
      "source": "Q1.Who developed Python Programming Language?",
      "metadata": {}
    },
    {
      "cell_type": "markdown",
      "source": "Answer:-The Python programming language was developed by Guido van Rossum",
      "metadata": {}
    },
    {
      "cell_type": "markdown",
      "source": "Q2.Which type of Programming does Python support?",
      "metadata": {}
    },
    {
      "cell_type": "markdown",
      "source": "Answer:-Python is a multi-paradigm programming language that supports multiple types of programming, including:-\n1.Object-Oriented Programming\n2.Procedural Programming\n3.Functional Programming\n4.Imperative Programming",
      "metadata": {}
    },
    {
      "cell_type": "markdown",
      "source": "Q3.Is Python case sensitive when dealing with identifiers",
      "metadata": {}
    },
    {
      "cell_type": "markdown",
      "source": "Answer:- Python is case sensitive when dealing with identifiers. This means that variables named Variable, variable, and VARIABLE would be considered distinct from one another. The case of each letter in an identifier matters, so keep that in mind when naming your variables, functions, and classes.",
      "metadata": {}
    },
    {
      "cell_type": "markdown",
      "source": "Q4.What is the correct extension of the Python file?",
      "metadata": {}
    },
    {
      "cell_type": "markdown",
      "source": "Answer:-The correct file extension for Python files is .py",
      "metadata": {}
    },
    {
      "cell_type": "markdown",
      "source": "Q5.Is Python code compiled or interpreted? ",
      "metadata": {}
    },
    {
      "cell_type": "markdown",
      "source": "Answer:-Python is primarily an interpreted language, but it incorporates both compilation and interpretation in its execution process.",
      "metadata": {}
    },
    {
      "cell_type": "markdown",
      "source": "Q6.Name a few blocks of code used to define in Python language?",
      "metadata": {}
    },
    {
      "cell_type": "markdown",
      "source": "Answer:-In Python, there are several types of code blocks you can define. Here are a few:-\n1.Functions\n2.Classes\n3.Conditionals\n4.Loops\n5.Try-Except Blocks",
      "metadata": {}
    },
    {
      "cell_type": "markdown",
      "source": "Q7.State a character used to give single-line comments in Python? ",
      "metadata": {}
    },
    {
      "cell_type": "markdown",
      "source": "Answer:-In Python, we use the hash symbol # to write a single-line comment.",
      "metadata": {}
    },
    {
      "cell_type": "markdown",
      "source": "Q8.Mention functions which can help us to find the version of python that we are currently working on?",
      "metadata": {}
    },
    {
      "cell_type": "markdown",
      "source": "Answer:-To find out the version of Python you are currently working on, you can use the following functions:\nUsing Sys Module or Using platform module\nExample:-\n",
      "metadata": {}
    },
    {
      "cell_type": "code",
      "source": "import sys\nprint(sys.version)\n",
      "metadata": {
        "trusted": true
      },
      "outputs": [
        {
          "name": "stdout",
          "text": "3.12.1 (main, Jul 26 2024, 14:03:47) [Clang 19.0.0git (https:/github.com/llvm/llvm-project 0a8cd1ed1f4f35905df318015b\n",
          "output_type": "stream"
        }
      ],
      "execution_count": 3
    },
    {
      "cell_type": "code",
      "source": "import platform\nprint(platform.python_version())\n",
      "metadata": {
        "trusted": true
      },
      "outputs": [
        {
          "name": "stdout",
          "text": "3.12.1\n",
          "output_type": "stream"
        }
      ],
      "execution_count": 4
    },
    {
      "cell_type": "markdown",
      "source": "Q9. Python supports the creation of anonymous functions at runtime, using a construct called_______",
      "metadata": {}
    },
    {
      "cell_type": "markdown",
      "source": "Answer:-Python supports the creation of anonymous functions at runtime using a construct called lambda.",
      "metadata": {}
    },
    {
      "cell_type": "markdown",
      "source": "Q10. What does pip stand for python?",
      "metadata": {}
    },
    {
      "cell_type": "markdown",
      "source": "Answer:-pip stands for Pip Installs Packages",
      "metadata": {}
    },
    {
      "cell_type": "markdown",
      "source": "Q11.Mention a few built-in functions in python?",
      "metadata": {}
    },
    {
      "cell_type": "markdown",
      "source": "Answer:-Python has a bunch of handy built-in functions. Here are a few essentials:\n1.print()\n2.len()\n3.type()\n4.int()\n5.float()\n6.str()\n7.range()\n8.sum()",
      "metadata": {}
    },
    {
      "cell_type": "markdown",
      "source": "Q12.What is the maximum possible length of an identifier in Python?",
      "metadata": {}
    },
    {
      "cell_type": "markdown",
      "source": "Answer:-An identifier can have a maximum length of 79 characters in Python.",
      "metadata": {}
    },
    {
      "cell_type": "markdown",
      "source": "Q13.What are the benefits of using Python?",
      "metadata": {}
    },
    {
      "cell_type": "markdown",
      "source": "Answer:- The benefits of using Python are as follows:-\n1.Ease of Learning and Use: Python's syntax is clear and readable, making it an excellent choice for beginners.\n2.Libraries and Frameworks:-Python has a rich ecosystem of libraries and frameworks, such as Pandas, NumPy, Matplotlib,Flask and many others.\n3.Object-Oriented and Functional Programming:-Python supports multiple programming paradigms, including object-oriented, procedural, and functional programming, giving developers flexibility in structuring their code\n4.Platform Independence:-Python is a cross-platform language, meaning code written in Python can run on different operating systems Windows, macOS, Linux\n5.Python is a language that can be used across various domains, including web development, data science, artificial intelligence, machine learning",
      "metadata": {}
    },
    {
      "cell_type": "markdown",
      "source": "Q14.How is memory managed in Python? ",
      "metadata": {}
    },
    {
      "cell_type": "markdown",
      "source": "Answer:-Python uses a variety of methods to manage memory are as follows:-\n1.Garbage collection: Automatically frees up memory that the system isn't using\n2.Reference counting: Tracks how often a program uses an object.\n3.Generators and iterators: Create data streams that load one at a time.\n4.Memory Management Functions: Python’s standard library provides functions to interact with the garbage collector and manage memory more effectively",
      "metadata": {}
    },
    {
      "cell_type": "markdown",
      "source": "Q15.How to install Python on Windows and set path variables? 16. Is indentation required in python",
      "metadata": {}
    },
    {
      "cell_type": "markdown",
      "source": "Answer:-To install Python on Windows and set path variables steps are as follows:-\nStep 1 :-Download Python Installer:-\nGo to the official Python website and download the latest version of Python for Windows.\nStep 2 :-Run the Installer:-\nOpen the downloaded installer file python.exe.\nOn the first setup screen, check the box labeled Add Python to PATH to ensure you can run Python from the command line\nStep 3:-Verify Installation: Open Command Prompt and type python --version to check if Python is installed correctly\n\nSet Path Variables\n\nStep 1:-Open Environment Variables: Right-click on This PC select Properties then Advanced system settings.\n\nStep 2:-Edit Path: In the System Properties window, click Environment Variables.\n\nStep 3:-Add Python Path: In the System variables section, find the Path variable and click Edit.\n\nStep 4:-Add Python Directory: Click New and add the path to your Python installation directory (e.g., C:\\Python39\\)\n\nIs indentation required in python\nAnswer:-Yes, indentation is required in Python\n. It is used to define blocks of code, such as loops, functions, and conditionals\nFor Example:- def greet():\n    print(\"Hello, World!\")\nIn the above example, the print statement is indented to show that it belongs to the greet function\n\n",
      "metadata": {}
    }
  ]
}